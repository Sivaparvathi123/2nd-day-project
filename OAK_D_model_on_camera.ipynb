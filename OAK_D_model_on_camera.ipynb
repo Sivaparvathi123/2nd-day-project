{
  "nbformat": 4,
  "nbformat_minor": 0,
  "metadata": {
    "colab": {
      "provenance": [],
      "authorship_tag": "ABX9TyMbwFOdSSkKyAAMAb94/ibQ",
      "include_colab_link": true
    },
    "kernelspec": {
      "name": "python3",
      "display_name": "Python 3"
    },
    "language_info": {
      "name": "python"
    }
  },
  "cells": [
    {
      "cell_type": "markdown",
      "metadata": {
        "id": "view-in-github",
        "colab_type": "text"
      },
      "source": [
        "<a href=\"https://colab.research.google.com/github/Sivaparvathi123/2nd-day-project/blob/main/OAK_D_model_on_camera.ipynb\" target=\"_parent\"><img src=\"https://colab.research.google.com/assets/colab-badge.svg\" alt=\"Open In Colab\"/></a>"
      ]
    },
    {
      "cell_type": "markdown",
      "source": [
        "# **Training and deployment of a YoloV5 custom model for object detection using OAK-D PoE**\n",
        "\n",
        "In this tutorial we will go through the basic training of an object detection model with your own annotated images.\n",
        "\n",
        "*   Download the YoloV5 model from https://github.com/ultralytics/yolov5,\n",
        "*   Prepare the dataset of custom objects\n",
        "*   Train the custom_dataset on yolov5 model\n",
        "*   converting the model to blob using http://tools.luxonis.com/\n",
        "*   Run the model on the OAK-D device\n",
        "\n",
        "\n",
        "\n",
        "\n",
        "\n",
        "\n",
        "\n",
        "\n",
        "\n"
      ],
      "metadata": {
        "id": "dOOg3v5M-l91"
      }
    },
    {
      "cell_type": "markdown",
      "source": [
        "# Setup and Download yolov5\n",
        "Clone GitHub repository, install dependencies and check PyTorch and GPU."
      ],
      "metadata": {
        "id": "Zb7RQa4XCiDJ"
      }
    },
    {
      "cell_type": "code",
      "source": [
        "!git clone https://github.com/ultralytics/yolov5  # clone\n",
        "%cd yolov5\n",
        "%pip install -qr requirements.txt  # install\n",
        "\n",
        "import torch\n",
        "import utils\n",
        "display = utils.notebook_init()  # checks"
      ],
      "metadata": {
        "colab": {
          "base_uri": "https://localhost:8080/"
        },
        "id": "pz3Lmdjg_Wd7",
        "outputId": "80bccc8a-c9c9-43fd-9721-fea485b9e2de"
      },
      "execution_count": 1,
      "outputs": [
        {
          "output_type": "stream",
          "name": "stderr",
          "text": [
            "YOLOv5 🚀 v7.0-165-ge382d4c Python-3.10.11 torch-2.0.0+cu118 CPU\n"
          ]
        },
        {
          "output_type": "stream",
          "name": "stdout",
          "text": [
            "Setup complete ✅ (2 CPUs, 12.7 GB RAM, 23.4/107.7 GB disk)\n"
          ]
        }
      ]
    },
    {
      "cell_type": "markdown",
      "source": [
        "# Prepare the dataset of custom objects\n",
        "Dataset is already prepared and added to the data folder(link)"
      ],
      "metadata": {
        "id": "NvkU-7mzFJqc"
      }
    },
    {
      "cell_type": "markdown",
      "source": [
        "# Train the custom_dataset on yolov5 model usng follwing command\n",
        "\n",
        "Change the .yaml file with number of trained objects here we have only one obejct class which is Koalrabi."
      ],
      "metadata": {
        "id": "2SzWDPS-FkVi"
      }
    },
    {
      "cell_type": "code",
      "source": [
        "!python train.py --img 640 --batch 16 --epochs 3 --data coco128.yaml --weights yolov5s.pt --cache"
      ],
      "metadata": {
        "id": "nuoTjyneFemn"
      },
      "execution_count": null,
      "outputs": []
    },
    {
      "cell_type": "code",
      "source": [
        "!unzip -q /content/dataset_1.zip -d ../           "
      ],
      "metadata": {
        "colab": {
          "base_uri": "https://localhost:8080/"
        },
        "id": "4DbeZKMdHccj",
        "outputId": "ee14ca66-38e0-48bc-aa8e-b34bfbdde780"
      },
      "execution_count": 17,
      "outputs": [
        {
          "output_type": "stream",
          "name": "stdout",
          "text": [
            "error [/content/dataset_1.zip]:  missing 48234496 bytes in zipfile\n",
            "  (attempting to process anyway)\n",
            "error: invalid zip file with overlapped components (possible zip bomb)\n"
          ]
        }
      ]
    },
    {
      "cell_type": "markdown",
      "source": [
        "# converting the model to blob using http://tools.luxonis.com/\n"
      ],
      "metadata": {
        "id": "eCF4oawoVtmz"
      }
    },
    {
      "cell_type": "markdown",
      "source": [
        "# Run the model on the OAK-D device\n",
        "To de"
      ],
      "metadata": {
        "id": "OaG6vPj3WFVx"
      }
    },
    {
      "cell_type": "code",
      "source": [],
      "metadata": {
        "id": "vG0Sun3_Vr5p"
      },
      "execution_count": null,
      "outputs": []
    },
    {
      "cell_type": "markdown",
      "source": [],
      "metadata": {
        "id": "HfvA4ZMfCf90"
      }
    },
    {
      "cell_type": "markdown",
      "source": [],
      "metadata": {
        "id": "koVmoF0o-iki"
      }
    }
  ]
}